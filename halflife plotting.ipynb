{
 "cells": [
  {
   "cell_type": "code",
   "execution_count": 36,
   "metadata": {},
   "outputs": [
    {
     "name": "stdout",
     "output_type": "stream",
     "text": [
      "Parent to child relationship:['U235-->Th231', 'Th231-->Pa231', 'Pa231-->Ac227', 'Ac227-->Fr223', 'Ac227-->Th227', 'Fr223-->At219', 'Fr223-->Ra223', 'Th227-->Ra223', 'At219-->Bi215']\n",
      "['922350000-->902310000', '902310000-->912310000', '912310000-->892270000', '892270000-->872230000', '892270000-->902270000', '872230000-->852190000', '872230000-->882230000', '902270000-->882230000', '852190000-->832150000']\n",
      "generations:[0, 1, 2, 3, 4, 4, 5, 5, 6, 7]\n",
      "list of nucname.ids:[922350000, 902310000, 912310000, 892270000, 872230000, 902270000, 852190000, 882230000, 882230000, 832150000]\n"
     ]
    }
   ],
   "source": [
    "#!/usr/bin/env python3\n",
    "# -*- coding: utf-8 -*-\n",
    "\"\"\"\n",
    "Created on Thu May 24 08:28:02 2018\n",
    "@author: tyler\n",
    "\"\"\"\n",
    "from pyne import data\n",
    "from pyne import nucname\n",
    "import numpy as np\n",
    "import matplotlib.pyplot as plt\n",
    "s = data.decay_data_children(922350000)\n",
    "U235 = nucname.id('U-235')\n",
    "unk = nucname.name(902310000)\n",
    "######### Decay chain\n",
    "U235 = nucname.id('U-235')\n",
    "\n",
    "IDS = [922350000]\n",
    "gens = 7\n",
    "generation = [0]\n",
    "parent_to_child = []\n",
    "parent_text = []\n",
    "j = 0\n",
    "for i in range(gens):\n",
    "    iso = IDS[i]\n",
    "    child = data.decay_data_children(iso)\n",
    "    nums =len(child)\n",
    "    if nums ==1:\n",
    "        IDS.append(child[0])\n",
    "        j+=1\n",
    "        generation.append(j)\n",
    "        parent_to_child.append(str(iso)+'-->'+str(child[0]))\n",
    "        parent_text.append(str(nucname.name(IDS[i]))+'-->'+str(nucname.name(child[0])))\n",
    "    if nums ==2:\n",
    "        IDS.append(child[0])\n",
    "        parent_to_child.append(str(iso)+'-->'+str(child[0]))\n",
    "        parent_text.append(str(nucname.name(IDS[i]))+'-->'+str(nucname.name(child[0])))\n",
    "        IDS.append(child[1])\n",
    "        parent_to_child.append(str(iso)+'-->'+str(child[1]))\n",
    "        parent_text.append(str(nucname.name(IDS[i]))+'-->'+str(nucname.name(child[1])))\n",
    "        j+=1\n",
    "        generation.append(j)\n",
    "        generation.append(j)\n",
    "print('Parent to child relationship:' + str(parent_text))\n",
    "\n",
    "print(parent_to_child)\n",
    "print('generations:' + str(generation))\n",
    "print('list of nucname.ids:'+str(IDS))"
   ]
  },
  {
   "cell_type": "markdown",
   "metadata": {},
   "source": []
  },
  {
   "cell_type": "code",
   "execution_count": 37,
   "metadata": {},
   "outputs": [
    {
     "name": "stdout",
     "output_type": "stream",
     "text": [
      "7.544705465864957e-06\n",
      "6.704672993171589e-13\n"
     ]
    },
    {
     "data": {
      "text/plain": [
       "0.012377628224284737"
      ]
     },
     "execution_count": 37,
     "metadata": {},
     "output_type": "execute_result"
    }
   ],
   "source": [
    "generation\n",
    "print(data.decay_const(IDS[1]))\n",
    "print(data.decay_const(IDS[2]))\n",
    "data.decay_const(IDS[3])\n",
    "data.decay_const(IDS[4])\n",
    "data.decay_const(IDS[5])\n",
    "data.decay_const(IDS[6])\n"
   ]
  },
  {
   "cell_type": "code",
   "execution_count": 112,
   "metadata": {},
   "outputs": [],
   "source": [
    "N_0= 100\n",
    "F_0 = 0\n",
    "Q_0 = 0\n",
    "t = np.linspace(0,100000,1000)\n",
    "#N = N_0*e^-lambda*t\n",
    "decay_con= 0.005\n",
    "decay_con1= 0.0001\n",
    "decay_con2= 0.000001\n",
    "Q_end = [0]\n",
    "for i in t:\n",
    "    N= N_0*np.exp(-decay_con*t)\n",
    "    Loss_N = N_0-N\n",
    "    F = F_0*np.exp(-decay_con1*t) +Loss_N*np.exp(-decay_con1*t)\n",
    "    Loss_F = abs(N_0-N-F)\n",
    "    Q = Loss_F    \n",
    "    "
   ]
  },
  {
   "cell_type": "code",
   "execution_count": 113,
   "metadata": {},
   "outputs": [
    {
     "data": {
      "image/png": "[encoded data removed]",
      "text/plain": [
       "<matplotlib.figure.Figure at 0x7f86914bf908>"
      ]
     },
     "metadata": {},
     "output_type": "display_data"
    },
    {
     "name": "stdout",
     "output_type": "stream",
     "text": [
      "0.00453999297625 99.995460007 100.0\n"
     ]
    }
   ],
   "source": [
    "plt.plot(t,N,label =\"N\")\n",
    "plt.plot(t,F,label =\"F\")\n",
    "plt.plot(t,Q,label =\"Q\")\n",
    "plt.legend()\n",
    "plt.show()\n",
    "print(F[-1],Q[-1],F[-1]+Q[-1])"
   ]
  },
  {
   "cell_type": "code",
   "execution_count": null,
   "metadata": {
    "collapsed": true
   },
   "outputs": [],
   "source": []
  },
  {
   "cell_type": "code",
   "execution_count": null,
   "metadata": {
    "collapsed": true
   },
   "outputs": [],
   "source": []
  }
 ],
 "metadata": {
  "kernelspec": {
   "display_name": "Python 3",
   "language": "python",
   "name": "python3"
  },
  "language_info": {
   "codemirror_mode": {
    "name": "ipython",
    "version": 3
   },
   "file_extension": ".py",
   "mimetype": "text/x-python",
   "name": "python",
   "nbconvert_exporter": "python",
   "pygments_lexer": "ipython3",
   "version": "3.6.3"
  }
 },
 "nbformat": 4,
 "nbformat_minor": 2
}
